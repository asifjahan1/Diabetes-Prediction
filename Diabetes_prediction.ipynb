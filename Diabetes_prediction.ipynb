{
  "cells": [
    {
      "cell_type": "code",
      "execution_count": null,
      "metadata": {
        "id": "z-189Rsx0wPZ"
      },
      "outputs": [],
      "source": [
        "import pandas as pd\n",
        "import numpy as np\n",
        "from matplotlib import pyplot\n",
        "import matplotlib.pyplot as plt"
      ]
    },
    {
      "cell_type": "code",
      "execution_count": null,
      "metadata": {
        "id": "vTNYhwur0wPd",
        "outputId": "9d260b96-9c83-4ce3-845a-171aa23df85b",
        "colab": {
          "base_uri": "https://localhost:8080/",
          "height": 134
        }
      },
      "outputs": [
        {
          "output_type": "error",
          "ename": "SyntaxError",
          "evalue": "ignored",
          "traceback": [
            "\u001b[0;36m  File \u001b[0;32m\"<ipython-input-3-af8a65254e31>\"\u001b[0;36m, line \u001b[0;32m1\u001b[0m\n\u001b[0;31m    //df = pd.read_csv('diabetes.csv')\u001b[0m\n\u001b[0m    ^\u001b[0m\n\u001b[0;31mSyntaxError\u001b[0m\u001b[0;31m:\u001b[0m invalid syntax\n"
          ]
        }
      ],
      "source": [
        "df = pd.read_csv('diabetes.csv')\n",
        "df.head()"
      ]
    },
    {
      "cell_type": "code",
      "execution_count": null,
      "metadata": {
        "id": "MoBocNWl0wPe"
      },
      "outputs": [],
      "source": [
        "df.shape"
      ]
    },
    {
      "cell_type": "markdown",
      "metadata": {
        "id": "DGJJKOVg0wPe"
      },
      "source": [
        "## Datasets preprocessing"
      ]
    },
    {
      "cell_type": "code",
      "execution_count": null,
      "metadata": {
        "id": "i8FMTb160wPg"
      },
      "outputs": [],
      "source": [
        "print(df.info())"
      ]
    },
    {
      "cell_type": "code",
      "execution_count": null,
      "metadata": {
        "id": "PkWJ1ZEW0wPg"
      },
      "outputs": [],
      "source": [
        "X = df.iloc[:, :-1]\n",
        "y = df.iloc[:, -1]"
      ]
    },
    {
      "cell_type": "code",
      "execution_count": null,
      "metadata": {
        "scrolled": true,
        "id": "vYLruixm0wPh"
      },
      "outputs": [],
      "source": [
        "X.describe()"
      ]
    },
    {
      "cell_type": "code",
      "execution_count": null,
      "metadata": {
        "id": "x50-8rF60wPh"
      },
      "outputs": [],
      "source": [
        "col = X.columns\n",
        "for i,v in enumerate(col):\n",
        "    print(f'Feature {i}: {v}')"
      ]
    },
    {
      "cell_type": "markdown",
      "metadata": {
        "id": "TzCIGInt0wPi"
      },
      "source": [
        "## Making a profile of the dataset"
      ]
    },
    {
      "cell_type": "code",
      "execution_count": null,
      "metadata": {
        "id": "Yqyho3_70wPi"
      },
      "outputs": [],
      "source": [
        "import pandas_profiling as pp\n",
        "import warnings\n",
        "warnings.filterwarnings('ignore')\n",
        "%matplotlib inline\n",
        "\n",
        "report = pp.ProfileReport(df, title = 'Pandas Profiling report of \"Diabeted Dataset\"', html = {'style':{'full_width': True}})\n",
        "\n",
        "report.to_file('Report.html')"
      ]
    },
    {
      "cell_type": "markdown",
      "metadata": {
        "id": "HmjaTE1E0wPj"
      },
      "source": [
        "## Calculating the feature importance using coefficient"
      ]
    },
    {
      "cell_type": "code",
      "execution_count": null,
      "metadata": {
        "id": "uL8L--OY0wPj",
        "outputId": "516d9d2a-daab-469f-e508-facec5830ec9",
        "colab": {
          "base_uri": "https://localhost:8080/",
          "height": 244
        }
      },
      "outputs": [
        {
          "output_type": "error",
          "ename": "NameError",
          "evalue": "ignored",
          "traceback": [
            "\u001b[0;31m---------------------------------------------------------------------------\u001b[0m",
            "\u001b[0;31mNameError\u001b[0m                                 Traceback (most recent call last)",
            "\u001b[0;32m<ipython-input-4-0d0a37a1d729>\u001b[0m in \u001b[0;36m<module>\u001b[0;34m\u001b[0m\n\u001b[1;32m      6\u001b[0m \u001b[0;34m\u001b[0m\u001b[0m\n\u001b[1;32m      7\u001b[0m \u001b[0;31m# fit the model\u001b[0m\u001b[0;34m\u001b[0m\u001b[0;34m\u001b[0m\u001b[0;34m\u001b[0m\u001b[0m\n\u001b[0;32m----> 8\u001b[0;31m \u001b[0mmodel\u001b[0m\u001b[0;34m.\u001b[0m\u001b[0mfit\u001b[0m\u001b[0;34m(\u001b[0m\u001b[0mX\u001b[0m\u001b[0;34m,\u001b[0m \u001b[0my\u001b[0m\u001b[0;34m)\u001b[0m\u001b[0;34m\u001b[0m\u001b[0;34m\u001b[0m\u001b[0m\n\u001b[0m\u001b[1;32m      9\u001b[0m \u001b[0;34m\u001b[0m\u001b[0m\n\u001b[1;32m     10\u001b[0m \u001b[0;31m# get importance\u001b[0m\u001b[0;34m\u001b[0m\u001b[0;34m\u001b[0m\u001b[0;34m\u001b[0m\u001b[0m\n",
            "\u001b[0;31mNameError\u001b[0m: name 'X' is not defined"
          ]
        }
      ],
      "source": [
        "# logistic regression for feature importance on a classification problem\n",
        "from sklearn.linear_model import LogisticRegression\n",
        "\n",
        "# define the model\n",
        "model = LogisticRegression()\n",
        "\n",
        "# fit the model\n",
        "model.fit(X, y)\n",
        "\n",
        "# get importance\n",
        "importance = model.coef_[0]\n",
        "\n",
        "# summarize feature importance\n",
        "for i,v in enumerate(importance):\n",
        "    print('Feature: %0d, Score: %.5f' % (i,v))\n",
        "\n",
        "# plot feature importance\n",
        "pyplot.bar([x for x in range(len(importance))], importance)\n",
        "pyplot.show()"
      ]
    },
    {
      "cell_type": "code",
      "execution_count": null,
      "metadata": {
        "id": "BKIg58o50wPk"
      },
      "outputs": [],
      "source": [
        "# decision tree for feature importance on a classification problem\n",
        "from sklearn.tree import DecisionTreeClassifier\n",
        "\n",
        "# define the model\n",
        "model = DecisionTreeClassifier()\n",
        "\n",
        "# fit the model\n",
        "model.fit(X, y)\n",
        "\n",
        "# get importance\n",
        "importance = model.feature_importances_\n",
        "\n",
        "# summarize feature importance\n",
        "for i,v in enumerate(importance):\n",
        "    print('Feature: %0d, Score: %.5f' % (i,v))\n",
        "\n",
        "# plot feature importance\n",
        "pyplot.bar([x for x in range(len(importance))], importance)\n",
        "pyplot.show()"
      ]
    },
    {
      "cell_type": "code",
      "execution_count": null,
      "metadata": {
        "id": "OaPRJsU80wPk"
      },
      "outputs": [],
      "source": [
        "# random forest for feature importance on a classification problem\n",
        "from sklearn.ensemble import RandomForestClassifier\n",
        "\n",
        "# define the model\n",
        "model = RandomForestClassifier()\n",
        "\n",
        "# fit the model\n",
        "model.fit(X, y)\n",
        "\n",
        "# get importance\n",
        "importance = model.feature_importances_\n",
        "\n",
        "# summarize feature importance\n",
        "for i,v in enumerate(importance):\n",
        "    print('Feature: %0d, Score: %.5f' % (i,v))\n",
        "\n",
        "# plot feature importance\n",
        "pyplot.bar([x for x in range(len(importance))], importance)\n",
        "pyplot.show()"
      ]
    },
    {
      "cell_type": "code",
      "execution_count": null,
      "metadata": {
        "id": "755sohAN0wPl"
      },
      "outputs": [],
      "source": [
        "# xgboost for feature importance on a classification problem\n",
        "from xgboost import XGBClassifier\n",
        "\n",
        "# define the model\n",
        "model = XGBClassifier()\n",
        "\n",
        "# fit the model\n",
        "model.fit(X, y)\n",
        "\n",
        "# get importance\n",
        "importance = model.feature_importances_\n",
        "\n",
        "# summarize feature importance\n",
        "for i,v in enumerate(importance):\n",
        "    print('Feature: %0d, Score: %.5f' % (i,v))\n",
        "\n",
        "# plot feature importance\n",
        "pyplot.bar([x for x in range(len(importance))], importance)\n",
        "pyplot.show()"
      ]
    },
    {
      "cell_type": "markdown",
      "metadata": {
        "id": "c9cRYab20wPl"
      },
      "source": [
        "## splitting the dataset"
      ]
    },
    {
      "cell_type": "code",
      "execution_count": null,
      "metadata": {
        "id": "asgu1Qwz0wPl"
      },
      "outputs": [],
      "source": [
        "from sklearn.model_selection import train_test_split\n",
        "X_train, X_test, y_train, y_test = train_test_split(X, y, test_size = 0.2, random_state = 0)"
      ]
    },
    {
      "cell_type": "markdown",
      "metadata": {
        "id": "qQ_k2-XU0wPm"
      },
      "source": [
        "## performing classification algorithm"
      ]
    },
    {
      "cell_type": "code",
      "execution_count": null,
      "metadata": {
        "id": "jD5-hqjX0wPm"
      },
      "outputs": [],
      "source": [
        "from sklearn.svm import SVC\n",
        "from sklearn.svm import LinearSVC\n",
        "from sklearn.naive_bayes import MultinomialNB\n",
        "from sklearn.naive_bayes import BernoulliNB\n",
        "from sklearn.linear_model import LogisticRegression\n",
        "from sklearn.tree import DecisionTreeClassifier\n",
        "from sklearn.neighbors import KNeighborsClassifier\n",
        "from sklearn.ensemble import RandomForestClassifier\n",
        "from sklearn.metrics import classification_report\n",
        "from sklearn.metrics import accuracy_score"
      ]
    },
    {
      "cell_type": "code",
      "execution_count": null,
      "metadata": {
        "id": "pp3-G66r0wPm"
      },
      "outputs": [],
      "source": [
        "def buildClassifier(X, y):\n",
        "    key = ['SVC', 'LinearSVC', 'MultinomialNB', 'BernoulliNB','LogisticRegression','KNeighborsClassifier','DecisionTreeClassifier','RandomForestClassifier']\n",
        "    value = [SVC(), LinearSVC(), MultinomialNB(), BernoulliNB(), LogisticRegression(), KNeighborsClassifier(n_neighbors = 5, weights ='distance'), DecisionTreeClassifier(random_state=10), RandomForestClassifier(n_estimators=60, random_state=0)]\n",
        "    models = dict(zip(key,value))\n",
        "\n",
        "    accuracy_list = []\n",
        "    for name,algo in models.items():\n",
        "        model=algo\n",
        "        model.fit(X_train,y_train)\n",
        "        predict = model.predict(X_test)\n",
        "        print(f\"{name}-->\\n-----------------------\\n{classification_report(y_test, predict, zero_division=1, target_names=['Negative', 'Positive'])}\")\n",
        "        accuracy_list.append(accuracy_score(y_test, predict)*100)\n",
        "\n",
        "    fig = plt.figure(figsize = (20, 5))\n",
        "    plt.bar(key, accuracy_list, color ='black', width = 0.5)\n",
        "    plt.xlabel(\"Algorithms name\")\n",
        "    plt.ylabel(\"Accuracy in Percentage\")\n",
        "    plt.title(\"Accuracy bar plot for all the Classification Algorithm\")\n",
        "    plt.show()\n",
        "    return accuracy_list"
      ]
    },
    {
      "cell_type": "code",
      "execution_count": null,
      "metadata": {
        "scrolled": false,
        "id": "GRqna5KE0wPm"
      },
      "outputs": [],
      "source": [
        "accu_list = buildClassifier(X, y)"
      ]
    },
    {
      "cell_type": "code",
      "execution_count": null,
      "metadata": {
        "id": "H7I3uYXV0wPn"
      },
      "outputs": [],
      "source": [
        "col = X.columns\n",
        "for i,v in enumerate(col):\n",
        "    print(f'Feature {i}: {v}')"
      ]
    },
    {
      "cell_type": "code",
      "execution_count": null,
      "metadata": {
        "id": "xgu0xBiQ0wPn"
      },
      "outputs": [],
      "source": [
        "X_important_feature = df[['Glucose', 'BMI', 'DiabetesPedigreeFunction', 'Age']]\n",
        "X.head()"
      ]
    },
    {
      "cell_type": "code",
      "execution_count": null,
      "metadata": {
        "id": "qGrX6cs60wPn"
      },
      "outputs": [],
      "source": [
        "y"
      ]
    },
    {
      "cell_type": "code",
      "execution_count": null,
      "metadata": {
        "scrolled": false,
        "id": "CgDx9vA40wPn"
      },
      "outputs": [],
      "source": [
        "new_accu_list = buildClassifier(X_important_feature, y)"
      ]
    },
    {
      "cell_type": "code",
      "execution_count": null,
      "metadata": {
        "id": "CmvM6Hu80wPn"
      },
      "outputs": [],
      "source": [
        "data = [accu_list, new_accu_list]\n",
        "fig = plt.figure(figsize = (15, 8))\n",
        "px = np.arange(8)\n",
        "ax = fig.add_axes([0,0, 1, 1])\n",
        "ax.bar(px + 0.00, data[0], color = 'yellow', width = .45)\n",
        "ax.bar(px + 0.25, data[1], color = 'black', width = .45)\n",
        "ax.legend(labels=['With all feature', 'With important feature'])"
      ]
    },
    {
      "cell_type": "code",
      "execution_count": null,
      "metadata": {
        "id": "_mo8FFfC0wPo"
      },
      "outputs": [],
      "source": [
        "for i in range(len(new_accu_list)):\n",
        "    print(f'{int(accu_list[i])} -----> {int(new_accu_list[i])}')"
      ]
    },
    {
      "cell_type": "code",
      "execution_count": null,
      "metadata": {
        "id": "eEEOZCU70wPo"
      },
      "outputs": [],
      "source": []
    }
  ],
  "metadata": {
    "kernelspec": {
      "display_name": "Python 3",
      "language": "python",
      "name": "python3"
    },
    "language_info": {
      "codemirror_mode": {
        "name": "ipython",
        "version": 3
      },
      "file_extension": ".py",
      "mimetype": "text/x-python",
      "name": "python",
      "nbconvert_exporter": "python",
      "pygments_lexer": "ipython3",
      "version": "3.8.3"
    },
    "colab": {
      "provenance": []
    }
  },
  "nbformat": 4,
  "nbformat_minor": 0
}